{
 "cells": [
  {
   "cell_type": "code",
   "execution_count": null,
   "id": "96d9fdcc-ea46-4c0c-b5df-58b656987e20",
   "metadata": {},
   "outputs": [],
   "source": [
    "import torch\n",
    "from pathlib import Path"
   ]
  },
  {
   "cell_type": "code",
   "execution_count": null,
   "id": "38d59ceb-63d9-46a0-92ed-f3d193caf9fc",
   "metadata": {},
   "outputs": [],
   "source": [
    "def extract_model_state(checkpoint_path, output_path):\n",
    "\n",
    "    # 加载checkpoint\n",
    "    checkpoint = torch.load(checkpoint_path, map_location=torch.device('cpu'))\n",
    "\n",
    "    # 从checkpoint中提取模型的状态\n",
    "    model_state = checkpoint['model_state_dict']\n",
    "\n",
    "    # 仅将模型状态保存到输出路径\n",
    "    torch.save(model_state, output_path)\n",
    "    print(f\"Model state dict saved to {output_path}\")\n"
   ]
  },
  {
   "cell_type": "code",
   "execution_count": null,
   "id": "79fbca09-7078-49d3-987e-78092437ca43",
   "metadata": {},
   "outputs": [],
   "source": [
    "if __name__ == \"__main__\":\n",
    "    # 在训练后，将最终checkpoint转换为仅包含模型参数的 pth 文件\n",
    "    checkpoint_path = 'pretrain_model/emotalk_model_epoch80_*.pth'  # 最终checkpoint文件名\n",
    "    output_path = 'pretrain_model/emotalk_model_only_params.pth'  # 模型参数输出路径\n",
    "\n",
    "    # 通过模式匹配查找正确的checkpoint文件\n",
    "    checkpoint_files = list(Path('.').glob(checkpoint_path))\n",
    "    if checkpoint_files:\n",
    "        checkpoint_file = checkpoint_files[0]\n",
    "        extract_model_state(checkpoint_file, output_path)  # 提取模型状态并保存\n",
    "    else:\n",
    "        print(\"No checkpoint found for conversion.\")"
   ]
  }
 ],
 "metadata": {
  "kernelspec": {
   "display_name": "emotalk",
   "language": "python",
   "name": "python3"
  },
  "language_info": {
   "codemirror_mode": {
    "name": "ipython",
    "version": 3
   },
   "file_extension": ".py",
   "mimetype": "text/x-python",
   "name": "python",
   "nbconvert_exporter": "python",
   "pygments_lexer": "ipython3",
   "version": "3.8.8"
  }
 },
 "nbformat": 4,
 "nbformat_minor": 5
}
